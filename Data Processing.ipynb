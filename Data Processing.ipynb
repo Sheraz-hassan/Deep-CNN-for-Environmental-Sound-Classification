{
 "cells": [
  {
   "cell_type": "markdown",
   "metadata": {},
   "source": [
    "The feature extraction process is very losely based on example code posted by Aaqib Saeed http://aqibsaeed.github.io/2016-09-03-urban-sound-classification-part-1/"
   ]
  },
  {
   "cell_type": "code",
   "execution_count": 2,
   "metadata": {},
   "outputs": [],
   "source": [
    "import glob\n",
    "import os\n",
    "import librosa\n",
    "import numpy as np\n",
    "import pandas as pd\n",
    "from librosa.feature import melspectrogram"
   ]
  },
  {
   "cell_type": "markdown",
   "metadata": {},
   "source": [
    "I implemented the Feature extraction described in Salamon and Bello's paper (Salamon, Justin, and Juan Pablo Bello. \"Deep convolutional neural networks and data augmentation for environmental sound classification.\" IEEE Signal processing letters 24.3 (2017): 279-283.) for environmental sound classification in this code. The data set is converted into Log Mel Spectograms with 128,128 dimentions as it was required in the paper. "
   ]
  },
  {
   "cell_type": "code",
   "execution_count": 3,
   "metadata": {},
   "outputs": [],
   "source": [
    "def LOG_MEL_SPEC(parent_dir,sub_dirs):\n",
    "    labels = []\n",
    "    log_mel_spectrogram=[]\n",
    "    exten=\"*.wav\"\n",
    "    for l, sub_dir in enumerate(sub_dirs):\n",
    "        for filename in glob.glob(os.path.join(parent_dir, sub_dir, exten)):\n",
    "            # Take labels from the file names\n",
    "            labels.append(filename.split('fold')[1].split('-')[1])      \n",
    "            f, sr = librosa.load(filename,sr=44100)\n",
    "            three_sec_samples=3*sr\n",
    "            if(len(f)>=three_sec_samples):\n",
    "                log_mel_spec = librosa.power_to_db(melspectrogram(f[:three_sec_samples], sr=sr, n_fft=1034, hop_length=1034))\n",
    "                # Log Mel spectograms of first 3 secs \n",
    "            else:                               \n",
    "                #If audio is not 3 sec repeat pad until its 3 secs long\n",
    "                while(len(f)<three_sec_samples):          \n",
    "                    f=np.concatenate((f, f))\n",
    "                log_mel_spec = librosa.power_to_db(melspectrogram(f[:three_sec_samples], sr=sr, n_fft=1034, hop_length=1034))\n",
    "            log_mel_spectrogram.append(log_mel_spec) \n",
    "            # Log Mel spectograms of first 3 secs       \n",
    "    return np.array(log_mel_spectrogram), np.array(labels,dtype = np.int)\n",
    "\n",
    "\n",
    "def encode(labels):\n",
    "    # One hot encoding of labels\n",
    "    labels_total = len(labels)\n",
    "    unique_labels_total = len(np.unique(labels))\n",
    "    one_hot_encoded = np.zeros((labels_total,unique_labels_total))\n",
    "    one_hot_encoded[np.arange(labels_total), labels] = 1\n",
    "    return one_hot_encoded\n",
    "\n",
    "def file_Creater(final_path,filename):\n",
    "    new_path = os.path.join(os.getcwd(), final_path)\n",
    "    if not os.path.exists(new_path):\n",
    "        os.makedirs(new_path)\n",
    "    return os.path.join(final_path, filename)\n",
    "    "
   ]
  },
  {
   "cell_type": "markdown",
   "metadata": {},
   "source": [
    "# Saving all folds in one file"
   ]
  },
  {
   "cell_type": "markdown",
   "metadata": {},
   "source": [
    "We save all the folds to one file of features and one file of labels."
   ]
  },
  {
   "cell_type": "code",
   "execution_count": 4,
   "metadata": {},
   "outputs": [
    {
     "name": "stdout",
     "output_type": "stream",
     "text": [
      "DONE... UrbanSound8K/UrbanSound8K_Processed\\allfolds_features_x.npy\n",
      "DONE...UrbanSound8K/UrbanSound8K_Processed\\allfolds_labels_y.npy\n"
     ]
    }
   ],
   "source": [
    "parent_directory = 'UrbanSound8K/audio' # Where you have saved the UrbanSound8K data set\"   \n",
    "final_dir=\"UrbanSound8K/UrbanSound8K_Processed\"\n",
    "feature_file = file_Creater(final_dir, 'allfolds_features_x.npy')\n",
    "labels_file = file_Creater(final_dir,'allfolds_labels_y.npy')\n",
    "features, labels = LOG_MEL_SPEC(parent_directory, ['fold1','fold2','fold3','fold4','fold5','fold6','fold7','fold8','fold9','fold10'])\n",
    "labels_encoded = encode(labels)\n",
    "np.save(feature_file, features)\n",
    "print (\"DONE... \" + feature_file)\n",
    "np.save(labels_file, labels_encoded)\n",
    "print (\"DONE... \" + labels_file)"
   ]
  }
 ],
 "metadata": {
  "kernelspec": {
   "display_name": "Python 3",
   "language": "python",
   "name": "python3"
  },
  "language_info": {
   "codemirror_mode": {
    "name": "ipython",
    "version": 3
   },
   "file_extension": ".py",
   "mimetype": "text/x-python",
   "name": "python",
   "nbconvert_exporter": "python",
   "pygments_lexer": "ipython3",
   "version": "3.8.5"
  }
 },
 "nbformat": 4,
 "nbformat_minor": 4
}
